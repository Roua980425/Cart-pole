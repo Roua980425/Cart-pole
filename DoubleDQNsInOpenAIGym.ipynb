{
 "cells": [
  {
   "cell_type": "code",
   "execution_count": 24,
   "metadata": {
    "colab": {
     "base_uri": "https://localhost:8080/",
     "height": 51
    },
    "colab_type": "code",
    "id": "HnA-Zf8JqsL4",
    "outputId": "c187732c-31ed-4343-f17a-1fe7b4c8b0cb"
   },
   "outputs": [
    {
     "name": "stdout",
     "output_type": "stream",
     "text": [
      "Gym: 0.21.0\n",
      "Tensorflow: 2.6.0\n"
     ]
    }
   ],
   "source": [
    "import gym\n",
    "import random\n",
    "import numpy as np\n",
    "import tensorflow as tf\n",
    "from collections import deque\n",
    "from tensorflow.python.framework import ops\n",
    "import tensorflow.compat.v1 as tf\n",
    "tf.disable_v2_behavior()\n",
    "print(\"Gym:\", gym.__version__)\n",
    "print(\"Tensorflow:\", tf.__version__)"
   ]
  },
  {
   "cell_type": "code",
   "execution_count": 25,
   "metadata": {
    "colab": {
     "base_uri": "https://localhost:8080/",
     "height": 51
    },
    "colab_type": "code",
    "id": "YHkYC1tmqsMB",
    "outputId": "69964460-737b-4f85-ef42-d9f17b420286"
   },
   "outputs": [
    {
     "name": "stdout",
     "output_type": "stream",
     "text": [
      "Observation space: Box([-4.8000002e+00 -3.4028235e+38 -4.1887903e-01 -3.4028235e+38], [4.8000002e+00 3.4028235e+38 4.1887903e-01 3.4028235e+38], (4,), float32)\n",
      "Action space: Discrete(2)\n"
     ]
    }
   ],
   "source": [
    "env_name = \"CartPole-v0\"\n",
    "env = gym.make(env_name)\n",
    "print(\"Observation space:\", env.observation_space)\n",
    "print(\"Action space:\", env.action_space)"
   ]
  },
  {
   "cell_type": "code",
   "execution_count": 26,
   "metadata": {
    "colab": {},
    "colab_type": "code",
    "id": "79GCjcYYqsMG"
   },
   "outputs": [],
   "source": [
    "class QNetwork():\n",
    "    def __init__(self, state_dim, action_size, tau=0.01):\n",
    "        ops.reset_default_graph()\n",
    "        self.state_in = tf.placeholder(tf.float32, shape=[None, *state_dim])\n",
    "        self.action_in = tf.placeholder(tf.int32, shape=[None])\n",
    "        self.q_target_in = tf.placeholder(tf.float32, shape=[None])\n",
    "        action_one_hot = tf.one_hot(self.action_in, depth=action_size)\n",
    "        \n",
    "        #we call q state local to create a seperate network branches for a local q state and target q state \n",
    "        self.q_state_local = self.build_model(action_size, \"local\")\n",
    "        self.q_state_target = self.build_model(action_size, \"target\")\n",
    "        \n",
    "        #update the q state action variabl for the loss to use the local network q state vector\n",
    "        self.q_state_action = tf.reduce_sum(tf.multiply(self.q_state_local, action_one_hot), axis=1)\n",
    "        self.loss = tf.reduce_mean(tf.square(self.q_state_action - self.q_target_in))\n",
    "        self.optimizer = tf.train.AdamOptimizer(learning_rate=0.001).minimize(self.loss)\n",
    "        \n",
    "        #we can access each network separate weights and biais variables throw tf.get_collection\n",
    "        #we specify a key to get the trainable variables and the scope that the variable were created in\n",
    "        self.local_vars = tf.get_collection(tf.GraphKeys.TRAINABLE_VARIABLES, scope=\"local\")\n",
    "        self.target_vars = tf.get_collection(tf.GraphKeys.TRAINABLE_VARIABLES, scope=\"target\")\n",
    "        #now we define our update operation for each variables in the target network with its corresponding\n",
    "        #local network variables \n",
    "        #tf dollar assign lets us create an operation to assign a new value to a variable when that operation\n",
    "        #is run in the session\n",
    "        #set a new value as the old value plus the difference from the old value to the local values scaled by the update\n",
    "        #break tab and this list of operations into a single operations using tf group and the run that in a list alongside \n",
    "        #our optimized operation each time we train the model \n",
    "        self.updater = tf.group([tf.assign(t, t + tau*(l-t)) for t,l in zip(self.target_vars, self.local_vars)])\n",
    "        \n",
    "    def build_model(self, action_size, scope):\n",
    "        with tf.variable_scope(scope):\n",
    "            hidden1 = tf.layers.dense(self.state_in, 100, activation=tf.nn.relu)\n",
    "            q_state = tf.layers.dense(hidden1, action_size, activation=None)\n",
    "            return q_state\n",
    "        \n",
    "    def update_model(self, session, state, action, q_target):\n",
    "        feed = {self.state_in: state, self.action_in: action, self.q_target_in: q_target}\n",
    "        session.run([self.optimizer, self.updater], feed_dict=feed)\n",
    "     \n",
    "    #we can just add a parameter use target\n",
    "    def get_q_state(self, session, state, use_target=False):\n",
    "         #set our output q state layer as the targets output if use target is true \n",
    "         #otherwise just use the original local network\n",
    "        q_state_op = self.q_state_target if use_target else self.q_state_local\n",
    "        q_state = session.run(q_state_op, feed_dict={self.state_in: state})\n",
    "        return q_state"
   ]
  },
  {
   "cell_type": "code",
   "execution_count": 27,
   "metadata": {
    "colab": {},
    "colab_type": "code",
    "id": "EYKcRk3ZqsMJ"
   },
   "outputs": [],
   "source": [
    "class ReplayBuffer():\n",
    "    def __init__(self, maxlen):\n",
    "        self.buffer = deque(maxlen=maxlen)\n",
    "        \n",
    "    def add(self, experience):\n",
    "        self.buffer.append(experience)\n",
    "        \n",
    "    def sample(self, batch_size):\n",
    "        sample_size = min(len(self.buffer), batch_size)\n",
    "        samples = random.choices(self.buffer, k=sample_size)\n",
    "        return map(list, zip(*samples))"
   ]
  },
  {
   "cell_type": "code",
   "execution_count": 28,
   "metadata": {
    "colab": {},
    "colab_type": "code",
    "id": "XKIXlcQSqsMN"
   },
   "outputs": [],
   "source": [
    "#the main idea of introducing double DQN is to avoid selecting the max q value too early which we achieve by having\n",
    "#one network select the action for the next state and the other network to provide q value for that action\n",
    "#this way both networks have to agree on the selected action leading to the maximum q value but since we already have \n",
    "#local and a target network from the fixed q target solution we can apply these to implement double dqn as well\n",
    "#so we can use the local network for selecting actions since it's already used to select actions to take in the \n",
    "#current state of the environment and then we can use the target for retrieving the q values since its values are \n",
    "#kept steadyas fixed q targets \n",
    "class DoubleDQNAgent():\n",
    "    def __init__(self, env):\n",
    "        self.state_dim = env.observation_space.shape\n",
    "        self.action_size = env.action_space.n\n",
    "        self.q_network = QNetwork(self.state_dim, self.action_size)\n",
    "        self.replay_buffer = ReplayBuffer(maxlen=10000)\n",
    "        self.gamma = 0.97\n",
    "        self.eps = 1.0\n",
    "        \n",
    "        self.sess = tf.Session()\n",
    "        self.sess.run(tf.global_variables_initializer())\n",
    "        \n",
    "    def get_action(self, state):\n",
    "        q_state = self.q_network.get_q_state(self.sess, [state])\n",
    "        action_greedy = np.argmax(q_state)\n",
    "        action_random = np.random.randint(self.action_size)\n",
    "        action = action_random if random.random() < self.eps else action_greedy\n",
    "        return action\n",
    "    \n",
    "    def train(self, state, action, next_state, reward, done, use_DDQN=True):\n",
    "        self.replay_buffer.add((state, action, next_state, reward, done))\n",
    "        states, actions, next_states, rewards, dones = self.replay_buffer.sample(50)\n",
    "        #adjust our agents q target calculation to use the target network for getting the q values \n",
    "        #for the next state \n",
    "        #get our next actions as the argmax of the q values of the next state from the localnetwork where use \n",
    "        #target is false and this argmax is over the columns axis \n",
    "        next_actions = np.argmax(self.q_network.get_q_state(self.sess, next_states, use_target=False), axis=1)\n",
    "        #by setting use target to use ddqn we can we can turn our double dqn feature on or off \n",
    "        q_next_states = self.q_network.get_q_state(self.sess, next_states, use_target=use_DDQN)\n",
    "        q_next_states[dones] = np.zeros([self.action_size])\n",
    "        #get the list of individual q values for each next action in the corresponding next state by indexing each\n",
    "        #next state q value by its corresponding next action and this will replace the max of the q values in the \n",
    "        #q target calculation\n",
    "        q_next_states_next_actions = q_next_states[np.arange(next_actions.shape[0]), next_actions]\n",
    "        \n",
    "        q_targets = rewards + self.gamma * q_next_states_next_actions\n",
    "        self.q_network.update_model(self.sess, states, actions, q_targets)\n",
    "        \n",
    "        if done: self.eps = max(0.1, 0.99*self.eps)\n",
    "    \n",
    "    def __del__(self):\n",
    "        self.sess.close()"
   ]
  },
  {
   "cell_type": "code",
   "execution_count": 30,
   "metadata": {
    "colab": {
     "base_uri": "https://localhost:8080/",
     "height": 187
    },
    "colab_type": "code",
    "id": "zv9Amjj4qsMQ",
    "outputId": "51824ef8-efd7-419d-8641-f6a6e9f484fb"
   },
   "outputs": [
    {
     "name": "stdout",
     "output_type": "stream",
     "text": [
      "Run 0\n",
      "Run 1\n",
      "Run 2\n",
      "Run 3\n",
      "Run 4\n",
      "Run 5\n",
      "Run 6\n",
      "Run 7\n",
      "Run 8\n",
      "Run 9\n"
     ]
    }
   ],
   "source": [
    "#we define a variable for number of runs being 10 for this experiment\n",
    "num_runs = 10\n",
    "run_rewards = []\n",
    "\n",
    "#we create a loop for each run printing the current run number and initializing a list for the total rewards from \n",
    "#each episode now since each new \n",
    "for n in range(num_runs):\n",
    "    print(\"Run {}\".format(n))\n",
    "    ep_rewards = []\n",
    "    #since each new agent instance creates a tensorflow session we need to make sure that sesion is \n",
    "    #closed before creating a new agent so we will first assign the agent to none which will delete the old agent \n",
    "    #and then we can create the new agent instance \n",
    "    agent = None\n",
    "    agent = DoubleDQNAgent(env)\n",
    "    num_episodes = 200\n",
    "\n",
    "    for ep in range(num_episodes):\n",
    "        state = env.reset()\n",
    "        total_reward = 0\n",
    "        done = False\n",
    "        while not done:\n",
    "            action = agent.get_action(state)\n",
    "            next_state, reward, done, info = env.step(action)\n",
    "            #use ddqn for each even number run when n mod 2 equal to 0\n",
    "            agent.train(state, action, next_state, reward, done, use_DDQN=(n%2==0))\n",
    "            env.render()\n",
    "            total_reward += reward\n",
    "            state = next_state\n",
    "        #after each episode we save the total rewards to the list \n",
    "        ep_rewards.append(total_reward)\n",
    "        #print(\"Episode: {}, total_reward: {:.2f}\".format(ep, total_reward))\n",
    "    #after the episode run we add that list of total rewards to a list of rewards for each run \n",
    "    run_rewards.append(ep_rewards)"
   ]
  },
  {
   "cell_type": "code",
   "execution_count": 31,
   "metadata": {
    "colab": {
     "base_uri": "https://localhost:8080/",
     "height": 311
    },
    "colab_type": "code",
    "id": "JU1OmrO0uHpO",
    "outputId": "e455da62-b5e4-4e41-9220-0a2931ea6e55"
   },
   "outputs": [
    {
     "data": {
      "text/plain": [
       "<matplotlib.legend.Legend at 0x1bcdc836ca0>"
      ]
     },
     "execution_count": 31,
     "metadata": {},
     "output_type": "execute_result"
    },
    {
     "data": {
      "image/png": "[encoded data removed]",
      "text/plain": [
       "<Figure size 432x288 with 1 Axes>"
      ]
     },
     "metadata": {
      "needs_background": "light"
     },
     "output_type": "display_data"
    }
   ],
   "source": [
    "import matplotlib.pyplot as plt\n",
    "%matplotlib inline\n",
    "\n",
    "\n",
    "for n, ep_rewards in enumerate(run_rewards):\n",
    "    #save the x axis as the episode numbers \n",
    "    x = range(len(ep_rewards))\n",
    "    #we want to plotthe average rewards for each episode of the last 100 episode \n",
    "    #we create a list of cumulative total rewards at each episode which we can get from numpy fcts \n",
    "    cumsum = np.cumsum(ep_rewards)\n",
    "    #for the first 100 episodes we just take the average reward but then after that wesubstract the accumulation from \n",
    "    #100 episodes back to get the sum of the rewards of the last 100episodes which we just average out\n",
    "    avgs = [cumsum[ep]/(ep+1) if ep<100 else (cumsum[ep]-cumsum[ep-100])/100 for ep in x]\n",
    "    #we use the color red to distinguish the runs which use ddqn and blue for dqn \n",
    "    col = \"r\" if (n%2==0) else \"b\"\n",
    "    plt.plot(x, avgs, color=col, label=n)\n",
    "    \n",
    "plt.title(\"DDQN vs DQN performance\")\n",
    "plt.xlabel(\"Episode\")\n",
    "plt.ylabel(\"Last 100 episode average rewards\")\n",
    "plt.legend()\n",
    "#ddqn allows for a faster increase in the total reward over fewer episodes "
   ]
  },
  {
   "cell_type": "code",
   "execution_count": 32,
   "metadata": {
    "colab": {},
    "colab_type": "code",
    "id": "_UBHQMHzqsMU"
   },
   "outputs": [],
   "source": [
    "env.close()"
   ]
  },
  {
   "cell_type": "code",
   "execution_count": null,
   "metadata": {},
   "outputs": [],
   "source": []
  }
 ],
 "metadata": {
  "colab": {
   "name": "DoubleDQNsInOpenAIGym.ipynb",
   "provenance": [],
   "version": "0.3.2"
  },
  "kernelspec": {
   "display_name": "Python 3",
   "language": "python",
   "name": "python3"
  },
  "language_info": {
   "codemirror_mode": {
    "name": "ipython",
    "version": 3
   },
   "file_extension": ".py",
   "mimetype": "text/x-python",
   "name": "python",
   "nbconvert_exporter": "python",
   "pygments_lexer": "ipython3",
   "version": "3.8.5"
  }
 },
 "nbformat": 4,
 "nbformat_minor": 1
}
